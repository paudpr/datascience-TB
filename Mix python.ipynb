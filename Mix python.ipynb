{
 "cells": [
  {
   "cell_type": "markdown",
   "metadata": {},
   "source": [
    "# Ejercicios variados - Python"
   ]
  },
  {
   "cell_type": "markdown",
   "metadata": {},
   "source": [
    "### Crea un programa que resuelva una ecuación de segundo grado"
   ]
  },
  {
   "cell_type": "code",
   "execution_count": 7,
   "metadata": {},
   "outputs": [
    {
     "name": "stdout",
     "output_type": "stream",
     "text": [
      "Introduce el coeficiente a: 1\n",
      "Introduce el coeficiente b: 2\n",
      "Introduce el coeficiente c: 1\n",
      "\n",
      "Las soluciones son -1.0 -1.0\n"
     ]
    }
   ],
   "source": [
    "import math\n",
    "#makes de math library available\n",
    "\n",
    "a = float(input(\"Introduce el coeficiente a: \"))\n",
    "b = float(input(\"Introduce el coeficiente b: \"))\n",
    "c = float(input(\"Introduce el coeficiente c: \"))\n",
    "\n",
    "discRoot = math.sqrt(b * b - 4 * a * c)\n",
    "\n",
    "root1 = (-b + discRoot) / (2 * a)\n",
    "root2 = (-b - discRoot) / (2 * a)\n",
    "\n",
    "print(\"\\nLas soluciones son\", root1, root2)"
   ]
  },
  {
   "cell_type": "markdown",
   "metadata": {},
   "source": [
    "### Crea un programa que calcule el factorial de un número"
   ]
  },
  {
   "cell_type": "code",
   "execution_count": 8,
   "metadata": {},
   "outputs": [
    {
     "name": "stdout",
     "output_type": "stream",
     "text": [
      "Introduce un número entero distinto de cero: 4\n",
      "\n",
      "El factorial de 4 es 24\n"
     ]
    }
   ],
   "source": [
    "numero = int(input(\"Introduce un número entero distinto de cero: \"))\n",
    "factorial = 1\n",
    "\n",
    "for i in range(1, numero + 1):\n",
    "    factorial = factorial * i\n",
    "    \n",
    "print(\"\\nEl factorial de\", numero, \"es\", factorial)"
   ]
  },
  {
   "cell_type": "markdown",
   "metadata": {},
   "source": [
    "### Crea un programa que calcule el average"
   ]
  },
  {
   "cell_type": "code",
   "execution_count": 9,
   "metadata": {},
   "outputs": [
    {
     "name": "stdout",
     "output_type": "stream",
     "text": [
      "¿Cuantos números tienes?4\n",
      "Introduce un número >> 7\n",
      "Introduce un número >> 2\n",
      "Introduce un número >> 6\n",
      "Introduce un número >> 0\n",
      "\n",
      "El average de tus números es 3.75\n"
     ]
    }
   ],
   "source": [
    "n = int(input(\"¿Cuantos números tienes? \"))\n",
    "total = 0.0\n",
    "\n",
    "for i in range(n):\n",
    "    x = float(input(\"Introduce un número >> \"))\n",
    "    total += x\n",
    "    \n",
    "print(\"\\nEl average de tus números es\", total / n)"
   ]
  },
  {
   "cell_type": "markdown",
   "metadata": {},
   "source": [
    "### Crea un programa que genere una lista de los 5 primeros y ultimos valores de los cuadrados de números entre 1 y 30 (inclusives)"
   ]
  },
  {
   "cell_type": "code",
   "execution_count": 10,
   "metadata": {},
   "outputs": [
    {
     "name": "stdout",
     "output_type": "stream",
     "text": [
      "[1, 4, 9, 16, 25]\n",
      "[676, 729, 784, 841, 900]\n"
     ]
    }
   ],
   "source": [
    "L = list()\n",
    "\n",
    "for i in range(1, 31):\n",
    "    L.append(i**2)\n",
    "    \n",
    "print(L[:5])\n",
    "print(L[-5:])"
   ]
  },
  {
   "cell_type": "markdown",
   "metadata": {},
   "source": [
    "### Programas con listas"
   ]
  },
  {
   "cell_type": "markdown",
   "metadata": {},
   "source": [
    "From given list gadgets = [“Mobile”, “Laptop”, 100, “Camera”, 310.28, “Speakers”, 27.00, “Television”, 1000, “Laptop Case”, “Camera Lens”]\n",
    "\n",
    "a) Create separate lists of strings and numbers\n",
    "\n",
    "b) Sort the strings list in ascending order\n",
    "\n",
    "c) Sort the number list from lowest to highest\n"
   ]
  },
  {
   "cell_type": "code",
   "execution_count": 12,
   "metadata": {},
   "outputs": [],
   "source": [
    "gadgets = [\"Mobile\", \"Laptop\", 100, \"Camera\", 310.28, \"Speakers\", 27.00, \n",
    "           \"Television\", 1000, \"Laptop Case\", \"Camera Lens\"]\n",
    " \n",
    "str_items = []\n",
    "num_items = []"
   ]
  },
  {
   "cell_type": "code",
   "execution_count": 13,
   "metadata": {},
   "outputs": [
    {
     "name": "stdout",
     "output_type": "stream",
     "text": [
      "['Mobile', 'Laptop', 'Camera', 'Speakers', 'Television', 'Laptop Case', 'Camera Lens']\n",
      "[100, 310.28, 27.0, 1000]\n"
     ]
    }
   ],
   "source": [
    "#A\n",
    "for item in gadgets:\n",
    "    if type(item) is str:\n",
    "        str_items.append(item)\n",
    "    elif type(item) is int or type(item) is float:\n",
    "        num_items.append(item)\n",
    "        \n",
    "print(str_items)\n",
    "print(num_items)"
   ]
  },
  {
   "cell_type": "code",
   "execution_count": 14,
   "metadata": {},
   "outputs": [
    {
     "name": "stdout",
     "output_type": "stream",
     "text": [
      "['Television', 'Speakers', 'Mobile', 'Laptop Case', 'Laptop', 'Camera Lens', 'Camera']\n"
     ]
    }
   ],
   "source": [
    "#B\n",
    "str_items.sort(reverse = True)\n",
    "print(str_items)"
   ]
  },
  {
   "cell_type": "code",
   "execution_count": 18,
   "metadata": {},
   "outputs": [
    {
     "name": "stdout",
     "output_type": "stream",
     "text": [
      "[27.0, 100, 310.28, 1000]\n"
     ]
    }
   ],
   "source": [
    "#C\n",
    "num_items.sort(reverse = False)\n",
    "print(num_items)"
   ]
  },
  {
   "cell_type": "markdown",
   "metadata": {},
   "source": [
    "##### With a given list: get first, second best scores\n",
    "\n",
    "List = [86, 86, 85, 85, 85, 83, 23, 45, 84, 1, 2, 0]"
   ]
  },
  {
   "cell_type": "code",
   "execution_count": 20,
   "metadata": {},
   "outputs": [
    {
     "name": "stdout",
     "output_type": "stream",
     "text": [
      "[86, 86, 83, 58, 58, 58, 47, 45, 23, 21, 17, 2, 1, 0]\n",
      "The best score is:  86\n",
      "The second best score is:  83\n"
     ]
    }
   ],
   "source": [
    "a_list = [86, 21, 17, 86, 58, 58, 58, 83, 23, 45, 47, 1, 2, 0]\n",
    "\n",
    "a_list.sort(reverse = True)\n",
    "print(a_list)\n",
    "\n",
    "first = a_list[0]\n",
    "\n",
    "for element in a_list:\n",
    "    if element != first:\n",
    "        second = element\n",
    "        break\n",
    "        \n",
    "print(\"The best score is: \", first)\n",
    "print(\"The second best score is: \", second)"
   ]
  },
  {
   "cell_type": "markdown",
   "metadata": {},
   "source": [
    "### Crea un programa para encontrar la palabra más corta y más larga"
   ]
  },
  {
   "cell_type": "code",
   "execution_count": 21,
   "metadata": {},
   "outputs": [],
   "source": [
    "def words(str1):\n",
    "    word = \"\";\n",
    "    all_words = [];\n",
    "    str1 = str1 + \" \";\n",
    "    for i in range(0, len(str1)):\n",
    "        if(str1[i] != ' '):\n",
    "            word = word + str1[i];  \n",
    "        else:\n",
    "            all_words.append(word);  \n",
    "            word = \"\";  \n",
    "          \n",
    "    small = large = all_words[0];  \n",
    "   \n",
    "#Find smallest and largest word in the str1\n",
    "    for k in range(0, len(all_words)):\n",
    "        if(len(small) > len(all_words[k])):\n",
    "            small = all_words[k];\n",
    "        if(len(large) < len(all_words[k])):\n",
    "            large = all_words[k];\n",
    "    return small,large;"
   ]
  },
  {
   "cell_type": "code",
   "execution_count": 22,
   "metadata": {},
   "outputs": [
    {
     "name": "stdout",
     "output_type": "stream",
     "text": [
      "La frase es:  Escribe un programa para encontrar la palabra más corta y más larga\n",
      "La palara más corta: y\n",
      "La palabra más larga: encontrar\n"
     ]
    }
   ],
   "source": [
    "str1 = \"Escribe un programa para encontrar la palabra más corta y más larga\"\n",
    "small, large = words(str1)\n",
    "\n",
    "print(\"La frase es: \", str1)\n",
    "print(\"La palara más corta: \" + small)\n",
    "print(\"La palabra más larga: \" + large)"
   ]
  },
  {
   "cell_type": "markdown",
   "metadata": {},
   "source": [
    "### Crea un programa que detecta si una palabra es palindrome"
   ]
  },
  {
   "cell_type": "code",
   "execution_count": 1,
   "metadata": {},
   "outputs": [
    {
     "name": "stdout",
     "output_type": "stream",
     "text": [
      "Introduce una palabra y comprueba si es un palíndromo: pepito\n",
      "La palabra no es un palíndromo.\n"
     ]
    }
   ],
   "source": [
    "my_str = input(\"Introduce una palabra y comprueba si es un palíndromo: \")\n",
    "my_str  = my_str.lower()\n",
    "\n",
    "rev_str = reversed(my_str)\n",
    "\n",
    "if list(my_str) == list(rev_str):\n",
    "    print(\"La palabra es un palíndromo.\")\n",
    "else:\n",
    "    print(\"La palabra no es un palíndromo.\")"
   ]
  },
  {
   "cell_type": "markdown",
   "metadata": {},
   "source": [
    "### Programas con diccionarios "
   ]
  },
  {
   "cell_type": "markdown",
   "metadata": {},
   "source": [
    "Make a dictionary containing three major rivers and the country each river runs through. One key-value pair might be 'Nile':'Egypt'.\n",
    "\n",
    "\n",
    "-Use a loop to print a sentence about each river, such as The Nile runs through Egypt.\n",
    "\n",
    "-Use a loop to print the name of each river included in the dictionary.\n",
    "\n",
    "-Use a loop to print the name of each country included in the dictionary."
   ]
  },
  {
   "cell_type": "code",
   "execution_count": 4,
   "metadata": {},
   "outputs": [
    {
     "name": "stdout",
     "output_type": "stream",
     "text": [
      "El rio Nile fluye por Egypt.\n",
      "El rio Mississippi fluye por United States.\n",
      "El rio Thames fluye por United Kingdom.\n",
      "El rio Ganges fluye por India.\n",
      "El rio Amazonas fluye por Brazil.\n",
      "\n",
      "Estos ríos están incluidos en el dataset:\n",
      "- Nile\n",
      "- Mississippi\n",
      "- Thames\n",
      "- Ganges\n",
      "- Amazonas\n",
      "\n",
      "Estos paises están incluidos en el dataset:\n",
      "- Egypt\n",
      "- United States\n",
      "- United Kingdom\n",
      "- India\n",
      "- Brazil\n"
     ]
    }
   ],
   "source": [
    "rivers = {\n",
    "    'Nile': 'Egypt',\n",
    "    'Mississippi': 'United States',\n",
    "    'Thames': 'United Kingdom',\n",
    "    'Ganges': 'India',\n",
    "    'Amazonas': 'Brazil'\n",
    "}\n",
    "\n",
    "for river, country in rivers.items():\n",
    "    print(f\"El rio {river.title()} fluye por {country.title()}.\")\n",
    "    \n",
    "print(\"\\nEstos ríos están incluidos en el dataset:\")\n",
    "for river in rivers.keys():\n",
    "    print(f\"- {river.title()}\")\n",
    "    \n",
    "print(\"\\nEstos paises están incluidos en el dataset:\")\n",
    "for country in rivers.values():\n",
    "    print(f\"- {country.title()}\")"
   ]
  },
  {
   "cell_type": "markdown",
   "metadata": {},
   "source": [
    "###### Nested dictionaries and lists"
   ]
  },
  {
   "cell_type": "markdown",
   "metadata": {},
   "source": [
    "Make several dictionaries. In each dictionary, include the kind of animal, the name, and the owner’s name. Store these dictionaries in a list called pets. Next, loop through your list and as you do print everything you know about each pet."
   ]
  },
  {
   "cell_type": "code",
   "execution_count": 5,
   "metadata": {},
   "outputs": [],
   "source": [
    "pets = []\n",
    "\n",
    "pet = {\n",
    "    'animal type': 'python',\n",
    "    'name': 'John',\n",
    "    'owner': 'Guido',\n",
    "    'weight': 43,\n",
    "    'eats': 'bugs',\n",
    "}\n",
    "pets.append(pet)\n",
    "\n",
    "pet = {\n",
    "    'animal type': 'chicken',\n",
    "    'name': 'Clarence',\n",
    "    'owner': 'Tiffany',\n",
    "    'weight': 2,\n",
    "    'eats': 'seeds',\n",
    "}\n",
    "pets.append(pet)\n",
    "\n",
    "pet = {\n",
    "    'animal type': 'dog',\n",
    "    'name': 'Peso',\n",
    "    'owner': 'Eric',\n",
    "    'weight': 39,\n",
    "    'eats': 'everything',\n",
    "}\n",
    "pets.append(pet)"
   ]
  },
  {
   "cell_type": "code",
   "execution_count": 8,
   "metadata": {},
   "outputs": [
    {
     "name": "stdout",
     "output_type": "stream",
     "text": [
      "\n",
      "Estos son los datos de John:\n",
      "\tanimal type: python\n",
      "\tname: John\n",
      "\towner: Guido\n",
      "\tweight: 43\n",
      "\teats: bugs\n",
      "\n",
      "Estos son los datos de Clarence:\n",
      "\tanimal type: chicken\n",
      "\tname: Clarence\n",
      "\towner: Tiffany\n",
      "\tweight: 2\n",
      "\teats: seeds\n",
      "\n",
      "Estos son los datos de Peso:\n",
      "\tanimal type: dog\n",
      "\tname: Peso\n",
      "\towner: Eric\n",
      "\tweight: 39\n",
      "\teats: everything\n"
     ]
    }
   ],
   "source": [
    "for pet in pets:\n",
    "    print(f\"\\nEstos son los datos de {pet['name'].title()}:\")\n",
    "    for key, value in pet.items():\n",
    "        print(f\"\\t{key}: {value}\")"
   ]
  },
  {
   "cell_type": "markdown",
   "metadata": {},
   "source": [
    "Make a dictionary called favorite_places. Think of three names to use as keys in the dictionary, and store one to three favorite places for each person."
   ]
  },
  {
   "cell_type": "code",
   "execution_count": 9,
   "metadata": {},
   "outputs": [],
   "source": [
    "favorite_places = {\n",
    "    'Eric': ['Bear mountain', 'Death Valley', 'Tierra del fuego'],\n",
    "    'Erin': ['Hawaii', 'Iceland'],\n",
    "    'Willie': ['Mt. Verstovia', 'The playground', 'New Hampshire']\n",
    "    }"
   ]
  },
  {
   "cell_type": "code",
   "execution_count": 10,
   "metadata": {},
   "outputs": [
    {
     "name": "stdout",
     "output_type": "stream",
     "text": [
      "\n",
      "A Eric le gustan los siguientes lugares:\n",
      "- Bear Mountain\n",
      "- Death Valley\n",
      "- Tierra Del Fuego\n",
      "\n",
      "A Erin le gustan los siguientes lugares:\n",
      "- Hawaii\n",
      "- Iceland\n",
      "\n",
      "A Willie le gustan los siguientes lugares:\n",
      "- Mt. Verstovia\n",
      "- The Playground\n",
      "- New Hampshire\n"
     ]
    }
   ],
   "source": [
    "for name, places in favorite_places.items():\n",
    "    print(f\"\\nA {name.title()} le gustan los siguientes lugares:\")\n",
    "    for place in places:\n",
    "        print(f\"- {place.title()}\")"
   ]
  },
  {
   "cell_type": "markdown",
   "metadata": {},
   "source": [
    "###### Functions and dictionaries"
   ]
  },
  {
   "cell_type": "markdown",
   "metadata": {},
   "source": [
    "Write a function called make_album() that builds a dictionary describing a music album. \n",
    "\n",
    "The function should take in an artist name and an album title, and it should return a dictionary containing these two pieces of information. Use the function to make three dictionaries representing different albums. Print each return value to show that the dictionaries are storing the album information correctly.\n"
   ]
  },
  {
   "cell_type": "code",
   "execution_count": 13,
   "metadata": {},
   "outputs": [],
   "source": [
    "def make_album(artist, title, tracks=0):\n",
    "    album_dict = {\n",
    "        'artist': artist.title(),\n",
    "        'title': title.title()\n",
    "    }\n",
    "    if tracks:\n",
    "        album_dict['tracks'] = tracks\n",
    "    return album_dict"
   ]
  },
  {
   "cell_type": "code",
   "execution_count": 14,
   "metadata": {},
   "outputs": [
    {
     "name": "stdout",
     "output_type": "stream",
     "text": [
      "\n",
      "Nombre del album: Back In Black\n",
      "\n",
      "Nombre del artista: AC/DC\n",
      "{'artist': 'Ac/Dc', 'title': 'Back In Black'}\n",
      "\n",
      "Nombre del album: Thriller\n",
      "\n",
      "Nombre del artista: Michael Jackson\n",
      "{'artist': 'Michael Jackson', 'title': 'Thriller'}\n",
      "\n",
      "Nombre del album: quit\n"
     ]
    }
   ],
   "source": [
    "while True:\n",
    "    title = input(\"\\nNombre del album: \")\n",
    "    if title == \"quit\":\n",
    "        break\n",
    "    \n",
    "    artist = input(\"\\nNombre del artista: \")\n",
    "    if artist == \"quit\":\n",
    "        break\n",
    "        \n",
    "    album = make_album(artist, title)\n",
    "    \n",
    "    print(album)"
   ]
  },
  {
   "cell_type": "markdown",
   "metadata": {},
   "source": [
    "### Programas con funciones"
   ]
  },
  {
   "cell_type": "markdown",
   "metadata": {},
   "source": [
    "###### Crea un programa que devuelva una lista cuyos valores sean los cuadrados de números entre 1 y 30 (inclusives)"
   ]
  },
  {
   "cell_type": "code",
   "execution_count": 15,
   "metadata": {},
   "outputs": [
    {
     "name": "stdout",
     "output_type": "stream",
     "text": [
      "[1, 4, 9, 16, 25, 36, 49, 64, 81, 100, 121, 144, 169, 196, 225, 256, 289, 324, 361, 400, 441, 484, 529, 576, 625, 676, 729, 784, 841, 900]\n"
     ]
    }
   ],
   "source": [
    "def list_values():\n",
    "    lista = list()\n",
    "    for i in range (1, 31):\n",
    "        lista.append(i**2)\n",
    "    print(lista)\n",
    "\n",
    "list_values()"
   ]
  },
  {
   "cell_type": "markdown",
   "metadata": {},
   "source": [
    "###### Ordena los elementos de una lista utilizando bubble sort"
   ]
  },
  {
   "cell_type": "code",
   "execution_count": 17,
   "metadata": {
    "scrolled": true
   },
   "outputs": [
    {
     "name": "stdout",
     "output_type": "stream",
     "text": [
      "La lista ordenda es: \n",
      "11\n",
      "12\n",
      "22\n",
      "25\n",
      "34\n",
      "64\n",
      "90\n"
     ]
    }
   ],
   "source": [
    "def bubble_sort(items):\n",
    "    n = len(items)\n",
    "    \n",
    "    for i in range(n - 1):\n",
    "        for j in  range(0, n - i - 1):\n",
    "            if items[j] > items[j + 1]:\n",
    "                items[j], items[j + 1] = items[j + 1], items[j]\n",
    "                \n",
    "items = [64, 34, 25, 12, 22, 11, 90]\n",
    "\n",
    "bubble_sort(items)\n",
    "\n",
    "print(\"La lista ordenda es: \")\n",
    "for i in range(len(items)): \n",
    "    print (\"%d\" %items[i]),"
   ]
  },
  {
   "cell_type": "markdown",
   "metadata": {},
   "source": [
    "###### Crea un programa que implemente una búsqueda binaria"
   ]
  },
  {
   "cell_type": "code",
   "execution_count": 30,
   "metadata": {},
   "outputs": [],
   "source": [
    "def binary_search(Lis, l, r, x):\n",
    "    if r >= l:\n",
    "        \n",
    "        mid = l + (r - l)//2\n",
    "        if Lis[mid] == x:\n",
    "            return mid\n",
    "        \n",
    "        elif Lis[mid] > x:\n",
    "            return binary_search(Lis, l, mid-1 , x)\n",
    "        \n",
    "        else:\n",
    "            return binary_search(Lis, mid+1, r, x)\n",
    "        \n",
    "    else:\n",
    "        return -1"
   ]
  },
  {
   "cell_type": "code",
   "execution_count": 33,
   "metadata": {},
   "outputs": [
    {
     "name": "stdout",
     "output_type": "stream",
     "text": [
      "El elemento se encuentra en el índice 4\n"
     ]
    }
   ],
   "source": [
    "Lis = [2, 4, 5, 10, 15, 19, 30]\n",
    "x = 15\n",
    "\n",
    "result = binary_search(Lis, 0, len(Lis)-1, x)\n",
    "\n",
    "if result != -1:\n",
    "    print(\"El elemento se encuentra en el índice %d\" % result)\n",
    "else:\n",
    "    print(\"El elemento no se encuentra en la lista dada\")"
   ]
  },
  {
   "cell_type": "markdown",
   "metadata": {},
   "source": [
    "###### Crea un programa que calcule el factorial de un número. "
   ]
  },
  {
   "cell_type": "code",
   "execution_count": 34,
   "metadata": {},
   "outputs": [],
   "source": [
    "def factorial(n):\n",
    "    if n==1:\n",
    "        return n\n",
    "    else:\n",
    "        return n*factorial(n-1)"
   ]
  },
  {
   "cell_type": "code",
   "execution_count": 35,
   "metadata": {},
   "outputs": [
    {
     "name": "stdout",
     "output_type": "stream",
     "text": [
      "Introduzca un número: 7\n",
      "El factorial de  7 is 5040\n"
     ]
    }
   ],
   "source": [
    "num = int(input(\"Introduzca un número: \"))\n",
    "\n",
    "if num == 0:\n",
    "    print(\"El factorial de 0 es 1\")\n",
    "else:\n",
    "    \n",
    "    print(\"El factorial de \", num, \"is\", factorial(num))"
   ]
  }
 ],
 "metadata": {
  "kernelspec": {
   "display_name": "Python 3",
   "language": "python",
   "name": "python3"
  },
  "language_info": {
   "codemirror_mode": {
    "name": "ipython",
    "version": 3
   },
   "file_extension": ".py",
   "mimetype": "text/x-python",
   "name": "python",
   "nbconvert_exporter": "python",
   "pygments_lexer": "ipython3",
   "version": "3.7.6"
  }
 },
 "nbformat": 4,
 "nbformat_minor": 4
}
