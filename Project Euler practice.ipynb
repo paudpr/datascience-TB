{
 "cells": [
  {
   "cell_type": "markdown",
   "metadata": {},
   "source": [
    "## Project Euler problems"
   ]
  },
  {
   "cell_type": "markdown",
   "metadata": {},
   "source": [
    "https://projecteuler.net/archives"
   ]
  },
  {
   "cell_type": "markdown",
   "metadata": {},
   "source": [
    "Used to use them to practice, now I'll try to do them all in order (just to keep track). I'll keep adding problems, as I do them usually while watching TV"
   ]
  },
  {
   "cell_type": "markdown",
   "metadata": {},
   "source": [
    "###### Problem 1"
   ]
  },
  {
   "cell_type": "code",
   "execution_count": 8,
   "metadata": {},
   "outputs": [
    {
     "name": "stdout",
     "output_type": "stream",
     "text": [
      "233168\n"
     ]
    }
   ],
   "source": [
    "L = 0\n",
    "for n in range(1000):\n",
    "    if n%3 == 0 or n%5 == 0:\n",
    "        L = L+n\n",
    "        \n",
    "print(L)"
   ]
  },
  {
   "cell_type": "markdown",
   "metadata": {},
   "source": [
    "###### Problem 2"
   ]
  },
  {
   "cell_type": "code",
   "execution_count": 10,
   "metadata": {},
   "outputs": [],
   "source": [
    "F = [0, 1]\n",
    "while n < 4000000:\n",
    "    n = F[-1]+ F[-2]\n",
    "    F.append(n)"
   ]
  },
  {
   "cell_type": "code",
   "execution_count": 12,
   "metadata": {},
   "outputs": [
    {
     "name": "stdout",
     "output_type": "stream",
     "text": [
      "4613732\n"
     ]
    }
   ],
   "source": [
    "FF = 0\n",
    "for n in F:\n",
    "    if n%2 == 0:\n",
    "        FF += n\n",
    "print(FF)"
   ]
  },
  {
   "cell_type": "markdown",
   "metadata": {},
   "source": [
    "###### Problem 3"
   ]
  },
  {
   "cell_type": "code",
   "execution_count": 23,
   "metadata": {},
   "outputs": [
    {
     "data": {
      "text/plain": [
       "6628403.0"
      ]
     },
     "execution_count": 23,
     "metadata": {},
     "output_type": "execute_result"
    }
   ],
   "source": [
    "n = 600851475144\n",
    "f = 2\n",
    "while f*f < n:\n",
    "    while n % f == 0:\n",
    "        n = n/f\n",
    "    f = f + 1\n",
    "    \n",
    "n"
   ]
  },
  {
   "cell_type": "markdown",
   "metadata": {},
   "source": [
    "###### Problem 4"
   ]
  },
  {
   "cell_type": "code",
   "execution_count": 4,
   "metadata": {},
   "outputs": [
    {
     "name": "stdout",
     "output_type": "stream",
     "text": [
      "906609\n"
     ]
    }
   ],
   "source": [
    "Pa = 0\n",
    "for a in range (999, 100, -1):\n",
    "    for b in range (a, 100, -1):\n",
    "        x = a*b\n",
    "        if x > Pa:\n",
    "            s = str(a*b)\n",
    "            if s == s[::-1]:\n",
    "                Pa = a*b\n",
    "print(Pa)   "
   ]
  },
  {
   "cell_type": "markdown",
   "metadata": {},
   "source": [
    "###### Problem 5"
   ]
  },
  {
   "cell_type": "code",
   "execution_count": 14,
   "metadata": {},
   "outputs": [],
   "source": [
    "M = list(range(1, 21))\n",
    "m = 1"
   ]
  },
  {
   "cell_type": "code",
   "execution_count": 15,
   "metadata": {},
   "outputs": [],
   "source": [
    "for n in M:\n",
    "    m = m*n"
   ]
  },
  {
   "cell_type": "code",
   "execution_count": 19,
   "metadata": {},
   "outputs": [
    {
     "name": "stdout",
     "output_type": "stream",
     "text": [
      "2432902008176640000 is the smallest number evenly divisible by all the numbers from 1 to 20\n"
     ]
    }
   ],
   "source": [
    "Div = []\n",
    "for n in M:\n",
    "    if m%n == 0:\n",
    "        Div.append(m)\n",
    "    else:\n",
    "        m = m-1\n",
    "\n",
    "print(Div[-1], 'is the smallest number evenly divisible by all the numbers from 1 to 20')"
   ]
  },
  {
   "cell_type": "markdown",
   "metadata": {},
   "source": [
    "###### Problem 6"
   ]
  },
  {
   "cell_type": "code",
   "execution_count": 21,
   "metadata": {},
   "outputs": [
    {
     "data": {
      "text/plain": [
       "25164150"
      ]
     },
     "execution_count": 21,
     "metadata": {},
     "output_type": "execute_result"
    }
   ],
   "source": [
    "Nums = list(range(1, 101))\n",
    "SumSquares = 0\n",
    "for n in Nums:\n",
    "    SumSquares = SumSquares + n**2\n",
    "SquareSums = (sum(Nums))**2\n",
    "Dif = SquareSums - SumSquares\n",
    "Dif"
   ]
  },
  {
   "cell_type": "markdown",
   "metadata": {},
   "source": [
    "###### Problem 7"
   ]
  },
  {
   "cell_type": "code",
   "execution_count": null,
   "metadata": {},
   "outputs": [],
   "source": []
  }
 ],
 "metadata": {
  "kernelspec": {
   "display_name": "Python 3",
   "language": "python",
   "name": "python3"
  },
  "language_info": {
   "codemirror_mode": {
    "name": "ipython",
    "version": 3
   },
   "file_extension": ".py",
   "mimetype": "text/x-python",
   "name": "python",
   "nbconvert_exporter": "python",
   "pygments_lexer": "ipython3",
   "version": "3.8.3"
  }
 },
 "nbformat": 4,
 "nbformat_minor": 4
}
